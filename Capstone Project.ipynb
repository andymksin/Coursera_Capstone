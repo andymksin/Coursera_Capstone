{
 "cells": [
  {
   "cell_type": "markdown",
   "metadata": {},
   "source": [
    "# Capstone Project\n",
    "\n",
    "This workbook contains my submission for the Capstone Project for IBM Data Science Professional Certificate"
   ]
  },
  {
   "cell_type": "code",
   "execution_count": 2,
   "metadata": {},
   "outputs": [
    {
     "name": "stdout",
     "output_type": "stream",
     "text": [
      "Hello Capstone Project Course\n"
     ]
    }
   ],
   "source": [
    "import pandas as pd\n",
    "import numpy as np\n",
    "\n",
    "print(\"Hello Capstone Project Course\")"
   ]
  },
  {
   "cell_type": "markdown",
   "metadata": {},
   "source": [
    " ## Introduction/Business Problem"
   ]
  },
  {
   "cell_type": "markdown",
   "metadata": {},
   "source": [
    "Drivers and insurers alike are keen to understand what is the probability and potential severity of accidents occurring on a given journey and under certain observable conditions. This model will use factors such as weather conditions, time of day and area to help derive predictions. \n",
    "The output of this model will help users in determining the appetite for undertaking particular journeys or perhaps assist insurers in determining the premium level which should be applied to insurance. "
   ]
  },
  {
   "cell_type": "markdown",
   "metadata": {},
   "source": [
    "## Data "
   ]
  },
  {
   "cell_type": "markdown",
   "metadata": {},
   "source": [
    "The dataset is based on publicly available collision data for the Seattle and as captured by Seattle Police Department. It contains records from 2004 to present. The data is presented in a CSV format and contains the following attributes which will form the main element of our modelling:\n",
    "Severity Descriptions\n",
    "- Person Count\n",
    "- Vehicle Count \n",
    "- Date\n",
    "- Time\n",
    "- Weather \n",
    "- Light Conditions"
   ]
  }
 ],
 "metadata": {
  "kernelspec": {
   "display_name": "Python",
   "language": "python",
   "name": "conda-env-python-py"
  },
  "language_info": {
   "codemirror_mode": {
    "name": "ipython",
    "version": 3
   },
   "file_extension": ".py",
   "mimetype": "text/x-python",
   "name": "python",
   "nbconvert_exporter": "python",
   "pygments_lexer": "ipython3",
   "version": "3.6.11"
  }
 },
 "nbformat": 4,
 "nbformat_minor": 4
}
